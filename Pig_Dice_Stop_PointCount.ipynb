{
 "cells": [
  {
   "cell_type": "code",
   "execution_count": 2,
   "metadata": {},
   "outputs": [],
   "source": [
    "# Import packages\n",
    "import random\n",
    "import pandas as pd\n",
    "import matplotlib.pyplot as plt"
   ]
  },
  {
   "cell_type": "code",
   "execution_count": 4,
   "metadata": {},
   "outputs": [],
   "source": [
    "# Set itterations (10000 should remove all meaningful variance)\n",
    "itterations = 10000\n",
    "\n",
    "# Create empty dataframe\n",
    "df = pd.DataFrame()\n",
    "\n",
    "#create a tuple of numbers we would like to roll to before quiting our turn, testing each one individually\n",
    "numbers_until_quit = tuple(range(1, 71))\n",
    "\n",
    "# I ran by 5's to get a glance\n",
    "#numbers_until_quit =(5,10,15,20,25,30,35,40,45,50,55,60,65,70,75,80,85,90,95)\n",
    "\n",
    "# Honed into effective range\n",
    "#numbers_until_quit = tuple(range(10,30))\n",
    "\n",
    "# Itterate for each number we want to reach before we quit our turn\n",
    "for f in (numbers_until_quit):\n",
    "\n",
    "    # Reset average turns before testing a new number\n",
    "    average_turns=0\n",
    "    \n",
    "    # Each itterations is equal to 1 game\n",
    "    for i in range (itterations):\n",
    "        \n",
    "        # Reset turns and total points before starting new game\n",
    "        turns=0\n",
    "        point_total=0\n",
    "        \n",
    "        # While loop keeps the game going until we reach the winning score, 100\n",
    "        while point_total <100:\n",
    "        \n",
    "            # Add a turn and reset the point total for each turn before starting a new turn\n",
    "            turns+=1\n",
    "            point_total_turn=0\n",
    "            \n",
    "            # While loop keeps us rolling until we reach the point total we want to stop at or until we roll a pig\n",
    "            while point_total_turn < f:\n",
    "                roll=random.randint(1,6)\n",
    "                if roll != 1:\n",
    "                    point_total_turn +=roll\n",
    "                else:\n",
    "                    point_total_turn=0\n",
    "                    break\n",
    "                    \n",
    "            # If we do not roll a pig and we reach our point total threshold then we add those points to our total game points        \n",
    "            if point_total_turn > 0:\n",
    "                point_total+=point_total_turn\n",
    "            else:\n",
    "                point_total + 0\n",
    "        \n",
    "        # Not actually the average turns but the total turns for each number tested\n",
    "        # Must be divided by total itterations to get average turns\n",
    "        average_turns += turns\n",
    "    \t\t\t\n",
    "    # Put our point threshold next to the average turns in a dataframe\n",
    "    df = pd.concat([df, pd.DataFrame({'Points Until End of Turn': [f], 'Average Turns': [average_turns/itterations]})], ignore_index=True)\n"
   ]
  },
  {
   "cell_type": "code",
   "execution_count": 17,
   "metadata": {},
   "outputs": [
    {
     "name": "stdout",
     "output_type": "stream",
     "text": [
      "    Points Until End of Turn  Average Turns\n",
      "25                        26        13.9099\n",
      "26                        27        14.6067\n",
      "27                        28        15.3027\n",
      "28                        29        15.9471\n",
      "29                        30        16.5743\n",
      "30                        31        16.1891\n",
      "31                        32        15.0014\n",
      "32                        33        14.3583\n",
      "33                        34        15.1092\n",
      "34                        35        15.6457\n",
      "35                        36        16.4007\n",
      "36                        37        17.2952\n",
      "37                        38        17.9817\n",
      "38                        39        18.7251\n",
      "39                        40        19.7085\n"
     ]
    }
   ],
   "source": [
    "# Print dataframe\n",
    "print(df[25:40])"
   ]
  },
  {
   "cell_type": "code",
   "execution_count": 7,
   "metadata": {},
   "outputs": [
    {
     "data": {
      "image/png": "[encoded data removed]",
      "text/plain": [
       "<Figure size 640x480 with 1 Axes>"
      ]
     },
     "metadata": {},
     "output_type": "display_data"
    }
   ],
   "source": [
    "# Graph dataframe\n",
    "plt.bar(df['Points Until End of Turn'], df['Average Turns'], color='skyblue')\n",
    "plt.xlabel('Points Per Turn')\n",
    "plt.ylabel('Average Turns')\n",
    "plt.title('Average Turns vs. Points Unitl end of Turn')\n",
    "plt.show()"
   ]
  }
 ],
 "metadata": {
  "kernelspec": {
   "display_name": "Python 3",
   "language": "python",
   "name": "python3"
  },
  "language_info": {
   "codemirror_mode": {
    "name": "ipython",
    "version": 3
   },
   "file_extension": ".py",
   "mimetype": "text/x-python",
   "name": "python",
   "nbconvert_exporter": "python",
   "pygments_lexer": "ipython3",
   "version": "3.9.13"
  }
 },
 "nbformat": 4,
 "nbformat_minor": 2
}
