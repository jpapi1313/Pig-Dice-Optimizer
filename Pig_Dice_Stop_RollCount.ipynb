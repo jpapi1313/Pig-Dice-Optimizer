{
 "cells": [
  {
   "cell_type": "code",
   "execution_count": 9,
   "metadata": {},
   "outputs": [],
   "source": [
    "# Import Packages\n",
    "import random\n",
    "import pandas as pd\n",
    "import matplotlib.pyplot as plt"
   ]
  },
  {
   "cell_type": "code",
   "execution_count": 10,
   "metadata": {},
   "outputs": [],
   "source": [
    "# Set itterations (10000 should remove all meaningful variance)\n",
    "itterations = 10000\n",
    "\n",
    "# Create empty dataframe\n",
    "df = pd.DataFrame()\n",
    "\n",
    "# Create range of rolls per turn to be tested\n",
    "test_rolls = tuple(range(1, 16))\n",
    "\n",
    "# Itterate over the numbers of rolls per turn to be tested \n",
    "for f in (test_rolls):\n",
    "    \n",
    "    # Reset average turns for each rolls per turn we test\n",
    "    average_turns=0\n",
    "    \n",
    "    # Itterate over variable itterations (each itteration is a new simulated game)\n",
    "    for i in range (itterations):\n",
    "        \n",
    "        # Reset turns and point_total for each game\n",
    "        turns=0\n",
    "        point_total=0\n",
    "        \n",
    "        # While loop continues play until the winning score is attained\n",
    "        while point_total < 100:\n",
    "        \n",
    "            # Add a turn for each while loop trip and reset the point total for each turn at the start of the turn\n",
    "            turns+=1\n",
    "            point_total_turn=0\n",
    "            \n",
    "            # This itteration rolls the dice and runs until a pig is thrown or we reach our desired number of rolls per turn\n",
    "            for t in range(f):\n",
    "                roll=random.randint(1,6)\n",
    "                if roll != 1:\n",
    "                    point_total_turn +=roll\n",
    "                else:\n",
    "                    point_total_turn=0\n",
    "                    break\n",
    "                    \n",
    "            # If a pig wasn't thrown then we add our total points per turn to the total points accumulated through the game so far        \n",
    "            if point_total_turn > 0:\n",
    "                point_total+=point_total_turn\n",
    "            else:\n",
    "                point_total + 0\n",
    "            \n",
    "        # Not actually the average turns but rather the total turns for that tested number of rolls\n",
    "        # It needs to be divided by itterations to get the average    \n",
    "        average_turns += turns\n",
    "        \n",
    "    # Created a dataframe of the average turns and each number of rolls tested\t\t\t\n",
    "    df = pd.concat([df, pd.DataFrame({'Rolls Per Turn': [f], 'Average Turns': [average_turns/itterations]})], ignore_index=True)"
   ]
  },
  {
   "cell_type": "code",
   "execution_count": 11,
   "metadata": {},
   "outputs": [
    {
     "name": "stdout",
     "output_type": "stream",
     "text": [
      "    Rolls Per Turn  Average Turns\n",
      "0                1        30.6417\n",
      "1                2        18.6363\n",
      "2                3        15.2012\n",
      "3                4        13.8848\n",
      "4                5        13.5870\n",
      "5                6        13.9936\n",
      "6                7        14.3957\n",
      "7                8        15.8026\n",
      "8                9        16.1639\n",
      "9               10        18.4383\n",
      "10              11        22.0275\n",
      "11              12        23.9801\n",
      "12              13        24.1915\n",
      "13              14        26.4146\n",
      "14              15        30.7560\n"
     ]
    }
   ],
   "source": [
    "# Print dataframe\n",
    "print(df)"
   ]
  },
  {
   "cell_type": "code",
   "execution_count": 12,
   "metadata": {},
   "outputs": [
    {
     "data": {
      "image/png": "[encoded data removed]",
      "text/plain": [
       "<Figure size 640x480 with 1 Axes>"
      ]
     },
     "metadata": {},
     "output_type": "display_data"
    }
   ],
   "source": [
    "#Graph dataframe\n",
    "plt.bar(df['Rolls Per Turn'], df['Average Turns'], color='skyblue')\n",
    "plt.xlabel('Rolls Per Turn')\n",
    "plt.ylabel('Average Turns')\n",
    "plt.title('Average Turns vs. Rolls Per Turn')\n",
    "plt.show()"
   ]
  }
 ],
 "metadata": {
  "kernelspec": {
   "display_name": "Python 3",
   "language": "python",
   "name": "python3"
  },
  "language_info": {
   "codemirror_mode": {
    "name": "ipython",
    "version": 3
   },
   "file_extension": ".py",
   "mimetype": "text/x-python",
   "name": "python",
   "nbconvert_exporter": "python",
   "pygments_lexer": "ipython3",
   "version": "3.9.13"
  }
 },
 "nbformat": 4,
 "nbformat_minor": 2
}
